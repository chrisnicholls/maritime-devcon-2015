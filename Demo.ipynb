{
 "cells": [
  {
   "cell_type": "markdown",
   "metadata": {},
   "source": [
    "####Example 1: Cast\n",
    "Is the movie good or bad based on the cast"
   ]
  },
  {
   "cell_type": "markdown",
   "metadata": {},
   "source": [
    "Checking out the data.."
   ]
  },
  {
   "cell_type": "code",
   "execution_count": 55,
   "metadata": {
    "collapsed": false
   },
   "outputs": [
    {
     "name": "stdout",
     "output_type": "stream",
     "text": [
      "1 Avengers_Age_of_Ultron| DowneyJr._Robert DowneyJr._Robert Hemsworth_Chris Ruffalo_Mark Ruffalo_Mark Evans_Chris Evans_Chris Johansson_Scarlett Johansson_Scarlett Renner_Jeremy Renner_Jeremy Spader_James Jackson_SamuelL. Cheadle_Don Cheadle_Don Taylor-Johnson_Aaron Taylor-Johnson_Aaron Olsen_Elizabeth Olsen_Elizabeth Bettany_Paul Bettany_Paul Smulders_Cobie Mackie_Anthony Mackie_Anthony Atwell_Hayley Elba_Idris Cardellini_Linda Skarsgård_Stellan Kim_Claudia Kretschmann_Thomas Serkis_Andy Lee_Stan Delpy_Julie Goodman_Henry Luca_Chris Schaeffer_Brian Provost-Chalkley_Dominique Andrews_Isaac Jones_GarethKieran WooLim_Chan Yeo_Minhee Kalu_Bentley Bleach_Julian Beasley_Chris Dabula_Vuyo Tembe_Nondumiso Thai_Kabelo Ledwaba_Lele Gaduka_Mandla Manamela_Harriet Hashe_Beulah Kumalo_Musca September_Mathapelo Acheampong_Antony Anyanwu_Chioma Deila_Ingvild Yeo_Sunny Go_Namju Kweon_Mina Kim_Earl Lee_Arthur Hewlitt_Verity Matovski_Michael Noce_Alma Richetta_Riccardo Ruff_Constanza Mclaren-Clark_Monty Krynke_Julia Christian_Tony Kay_Ian Aird_Barry Condon_Kerry \r\n",
      "0 Barb_Wire| Aboulela_Amir Alexander_Adriana Andriole_David Asher_VanessaLee Balicki_Ron Banko_Jennifer Kita_Candace Berkeley_Xander Bill_Tony Bookston_Alex Borgos_Gil Brown_AndreRosey Collver_Mark Cote_Tina Curto_Vinnie Desai_Shelly Dougal_Miles Forsgren_Ken Heath_Darrel Howard_Clint Hunt_Neil Inosanto_DianaLee Kier_Udo Kingi_Henry Lawrence_Tiffany Anderson_Pamela Lister_Tommy'Tiny' Manesh_Marshall Morrison_Temuera Noseworthy_Jack Paxton_John Piemonte_Peewee Railsback_Steve Reyes_MaryAnna Rosenthal_JeffreyDean Rowell_Victoria Rubin_Loren Russo_Michael Sagal_Joey Shay_Diane Shield_Harvey Simon_Lou Stahl_Rene Stewart_NilsAllen Teo Tippo_Patti Vandenberg_Dominiquie Wan_Ai Warshay_Diane Worth_Nicholas Wright_Jack Xuereb_Salvator \r\n"
     ]
    }
   ],
   "source": [
    "!head -n 2 ex1.test.vw"
   ]
  },
  {
   "cell_type": "code",
   "execution_count": 10,
   "metadata": {
    "collapsed": false
   },
   "outputs": [
    {
     "name": "stdout",
     "output_type": "stream",
     "text": [
      "Num weight bits = 18\n",
      "learning rate = 0.5\n",
      "initial_t = 0\n",
      "power_t = 0.5\n",
      "final_regressor = ex1.model\n",
      "using no cache\n",
      "Reading datafile = ex1.train.vw\n",
      "num sources = 1\n",
      "average    since         example     example  current  current  current\n",
      "loss       last          counter      weight    label  predict features\n",
      "0.000000   0.000000            1         1.0   0.0000   0.0000       26\n",
      "0.000000   0.000000            2         2.0   0.0000   0.0000        6\n",
      "0.439921   0.879842            4         4.0   1.0000   0.1284       13\n",
      "0.465951   0.491981            8         8.0   1.0000   0.2291        5\n",
      "0.408777   0.351604           16        16.0   1.0000   0.3885       10\n",
      "0.337837   0.266896           32        32.0   1.0000   0.4459        3\n",
      "0.295468   0.253100           64        64.0   1.0000   0.4981       20\n",
      "0.269744   0.244020          128       128.0   0.0000   0.5006       13\n",
      "0.254644   0.239544          256       256.0   1.0000   0.5686        7\n",
      "0.251240   0.247836          512       512.0   1.0000   0.5724       24\n",
      "0.245596   0.239952         1024      1024.0   1.0000   0.5806        8\n",
      "0.241682   0.237769         2048      2048.0   1.0000   0.5954        4\n",
      "0.231804   0.221926         4096      4096.0   1.0000   0.6531       17\n",
      "0.235034   0.238264         8192      8192.0   1.0000   0.6165       27\n",
      "0.235758   0.236482        16384     16384.0   1.0000   0.5490        6\n",
      "0.237184   0.238611        32768     32768.0   0.0000   0.2889        7\n",
      "0.236914   0.236643        65536     65536.0   1.0000   0.6836        3\n",
      "0.236100   0.235286       131072    131072.0   1.0000   0.5897       12\n",
      "\n",
      "finished run\n",
      "number of examples per pass = 169008\n",
      "passes used = 1\n",
      "weighted example sum = 169008\n",
      "weighted label sum = 100649\n",
      "average loss = 0.235894\n",
      "best constant = 0.595528\n",
      "best constant's loss = 0.240874\n",
      "total feature number = 2765695\n"
     ]
    }
   ],
   "source": [
    "!vw ex1.train.vw -f ex1.model"
   ]
  },
  {
   "cell_type": "markdown",
   "metadata": {},
   "source": [
    "Now get the predictions on the test data. The -i argument specifies the input model file, the -t argument means \"test only\" and the -p argument specifies the output for the predictions. --quiet suppresses the other output from vw"
   ]
  },
  {
   "cell_type": "code",
   "execution_count": 11,
   "metadata": {
    "collapsed": false
   },
   "outputs": [
    {
     "name": "stdout",
     "output_type": "stream",
     "text": [
      "1.000000 Avengers_Age_of_Ultron\r\n",
      "0.010282 Barb_Wire\r\n",
      "0.034936 Dude,_Where's_My_Car?\r\n",
      "0.255498 Pulp_Fiction\r\n",
      "1.000000 Schindler's_List\r\n",
      "0.794812 Taken_3\r\n",
      "0.145960 Terminator_2_Judgment_Day\r\n",
      "0.361363 The_Human_Centipede_(First_Sequence)\r\n",
      "1.000000 The_Lord_of_the_Rings_The_Fellowship_of_the_Ring\r\n",
      "0.767750 The_Matrix_Reloaded\r\n",
      "0.095027 Transformers_Age_of_Extinction\r\n"
     ]
    }
   ],
   "source": [
    "!vw -i ex1.model -t ex1.test.vw -p /dev/stdout --quiet"
   ]
  },
  {
   "cell_type": "markdown",
   "metadata": {},
   "source": [
    "As we can see, this isn't all that good.. Let's try increasing the number of iterations"
   ]
  },
  {
   "cell_type": "code",
   "execution_count": 12,
   "metadata": {
    "collapsed": false
   },
   "outputs": [
    {
     "name": "stdout",
     "output_type": "stream",
     "text": [
      "Num weight bits = 18\n",
      "learning rate = 0.5\n",
      "initial_t = 0\n",
      "power_t = 0.5\n",
      "decay_learning_rate = 1\n",
      "final_regressor = ex1.model\n",
      "creating cache_file = ex1.train.vw.cache\n",
      "Reading datafile = ex1.train.vw\n",
      "num sources = 1\n",
      "average    since         example     example  current  current  current\n",
      "loss       last          counter      weight    label  predict features\n",
      "0.000000   0.000000            1         1.0   0.0000   0.0000       26\n",
      "0.000000   0.000000            2         2.0   0.0000   0.0000        6\n",
      "0.439921   0.879842            4         4.0   1.0000   0.1284       13\n",
      "0.465951   0.491981            8         8.0   1.0000   0.2291        5\n",
      "0.410851   0.355751           16        16.0   0.0000   0.4095       12\n",
      "0.332289   0.253727           32        32.0   0.0000   0.4389       12\n",
      "0.294920   0.257551           64        64.0   0.0000   0.5056       10\n",
      "0.269914   0.244907          128       128.0   1.0000   0.5198        7\n",
      "0.255856   0.241799          256       256.0   0.0000   0.5456        8\n",
      "0.252114   0.248373          512       512.0   1.0000   0.5406       12\n",
      "0.248361   0.244608         1024      1024.0   0.0000   0.5387       28\n",
      "0.241349   0.234337         2048      2048.0   0.0000   0.6009       12\n",
      "0.233747   0.226145         4096      4096.0   0.0000   0.5513        9\n",
      "0.235967   0.238188         8192      8192.0   0.0000   0.4725        7\n",
      "0.237029   0.238091        16384     16384.0   1.0000   1.0000        4\n",
      "0.237759   0.238490        32768     32768.0   1.0000   0.6346        8\n",
      "0.236698   0.235637        65536     65536.0   0.0000   0.6744        6\n",
      "0.236869   0.237041       131072    131072.0   0.0000   0.6025        3\n",
      "0.235224   0.235224       262144    262144.0   1.0000   1.0000       17 h\n",
      "0.242100   0.248977       524288    524288.0   1.0000   1.0000        8 h\n",
      "\n",
      "finished run\n",
      "number of examples per pass = 152108\n",
      "passes used = 4\n",
      "weighted example sum = 608433\n",
      "weighted label sum = 362056\n",
      "average loss = 0.232869 h\n",
      "best constant = 0.595063\n",
      "best constant's loss = 0.240963\n",
      "total feature number = 9958638\n"
     ]
    }
   ],
   "source": [
    "!vw ex1.train.vw -f ex1.model --passes 30 -c -k"
   ]
  },
  {
   "cell_type": "markdown",
   "metadata": {},
   "source": [
    "Get the predictions again"
   ]
  },
  {
   "cell_type": "code",
   "execution_count": 13,
   "metadata": {
    "collapsed": false
   },
   "outputs": [
    {
     "name": "stdout",
     "output_type": "stream",
     "text": [
      "1.000000 Avengers_Age_of_Ultron\r\n",
      "0.111372 Barb_Wire\r\n",
      "0.026296 Dude,_Where's_My_Car?\r\n",
      "0.229648 Pulp_Fiction\r\n",
      "1.000000 Schindler's_List\r\n",
      "0.664461 Taken_3\r\n",
      "0.239987 Terminator_2_Judgment_Day\r\n",
      "0.278806 The_Human_Centipede_(First_Sequence)\r\n",
      "1.000000 The_Lord_of_the_Rings_The_Fellowship_of_the_Ring\r\n",
      "0.697005 The_Matrix_Reloaded\r\n",
      "0.280272 Transformers_Age_of_Extinction\r\n"
     ]
    }
   ],
   "source": [
    "!vw -i ex1.model -t ex1.test.vw -p /dev/stdout --quiet"
   ]
  },
  {
   "cell_type": "code",
   "execution_count": 14,
   "metadata": {
    "collapsed": true
   },
   "outputs": [],
   "source": [
    "def convert_to_labels(filename):\n",
    "    with open(filename) as f:\n",
    "        for line in f:\n",
    "            parts = line.split(' ')\n",
    "            label = 'Good' if float(parts[0]) >= 0.5 else 'Bad '\n",
    "            print label, parts[1],"
   ]
  },
  {
   "cell_type": "code",
   "execution_count": 15,
   "metadata": {
    "collapsed": true
   },
   "outputs": [],
   "source": [
    "!vw -i ex1.model -t ex1.test.vw -p ex1.predictions --quiet"
   ]
  },
  {
   "cell_type": "code",
   "execution_count": 16,
   "metadata": {
    "collapsed": false
   },
   "outputs": [
    {
     "name": "stdout",
     "output_type": "stream",
     "text": [
      "Good Avengers_Age_of_Ultron\n",
      "Bad  Barb_Wire\n",
      "Bad  Dude,_Where's_My_Car?\n",
      "Bad  Pulp_Fiction\n",
      "Good Schindler's_List\n",
      "Good Taken_3\n",
      "Bad  Terminator_2_Judgment_Day\n",
      "Bad  The_Human_Centipede_(First_Sequence)\n",
      "Good The_Lord_of_the_Rings_The_Fellowship_of_the_Ring\n",
      "Good The_Matrix_Reloaded\n",
      "Bad  Transformers_Age_of_Extinction\n"
     ]
    }
   ],
   "source": [
    "convert_to_labels('ex1.predictions')"
   ]
  },
  {
   "cell_type": "markdown",
   "metadata": {},
   "source": [
    "Not looking so good.. let's filter out some cast noise and add directors"
   ]
  },
  {
   "cell_type": "code",
   "execution_count": 75,
   "metadata": {
    "collapsed": false
   },
   "outputs": [
    {
     "name": "stdout",
     "output_type": "stream",
     "text": [
      "1 Avengers_Age_of_Ultron| DowneyJr._Robert DowneyJr._Robert Hemsworth_Chris Ruffalo_Mark Ruffalo_Mark director=Whedon_Joss\r\n",
      "0 Barb_Wire| Aboulela_Amir Alexander_Adriana Andriole_David Asher_VanessaLee Balicki_Ron director=Hogan_David\r\n",
      "0 Dude,_Where's_My_Car?| Kutcher_Ashton Scott_SeannWilliam Garner_Jennifer Sokoloff_Marla Swanson_Kristy director=Leiner_Danny\r\n"
     ]
    }
   ],
   "source": [
    "!head -n 3 ex2.test.vw"
   ]
  },
  {
   "cell_type": "code",
   "execution_count": 17,
   "metadata": {
    "collapsed": false
   },
   "outputs": [
    {
     "name": "stdout",
     "output_type": "stream",
     "text": [
      "Num weight bits = 18\n",
      "learning rate = 0.5\n",
      "initial_t = 0\n",
      "power_t = 0.5\n",
      "decay_learning_rate = 1\n",
      "final_regressor = ex2.model\n",
      "creating cache_file = ex2.train.vw.cache\n",
      "Reading datafile = ex2.train.vw\n",
      "num sources = 1\n",
      "average    since         example     example  current  current  current\n",
      "loss       last          counter      weight    label  predict features\n",
      "1.000000   1.000000            1         1.0   1.0000   0.0000        2\n",
      "0.532112   0.064223            2         2.0   0.0000   0.2534        7\n",
      "0.427359   0.322606            4         4.0   1.0000   0.2345        2\n",
      "0.384870   0.342380            8         8.0   1.0000   0.4063        7\n",
      "0.322295   0.259721           16        16.0   1.0000   0.3567        7\n",
      "0.294320   0.266346           32        32.0   0.0000   0.5418        7\n",
      "0.267498   0.240675           64        64.0   1.0000   0.5901        2\n",
      "0.257469   0.247440          128       128.0   0.0000   0.5164        7\n",
      "0.246553   0.235637          256       256.0   0.0000   0.6037        4\n",
      "0.244251   0.241950          512       512.0   1.0000   0.5664        3\n",
      "0.241353   0.238455         1024      1024.0   1.0000   0.6036        2\n",
      "0.238301   0.235248         2048      2048.0   0.0000   0.5422        7\n",
      "0.233049   0.227798         4096      4096.0   1.0000   0.6304        2\n",
      "0.229874   0.226699         8192      8192.0   0.0000   0.5706        6\n",
      "0.230818   0.231762        16384     16384.0   1.0000   0.5805        5\n",
      "0.228400   0.225982        32768     32768.0   1.0000   0.5985        2\n",
      "0.228225   0.228051        65536     65536.0   1.0000   0.8004        2\n",
      "0.227982   0.227739       131072    131072.0   1.0000   0.5843        7\n",
      "0.222355   0.222355       262144    262144.0   0.0000   0.2451        2 h\n",
      "0.226069   0.229783       524288    524288.0   1.0000   1.0000        7 h\n",
      "\n",
      "finished run\n",
      "number of examples per pass = 236005\n",
      "passes used = 4\n",
      "weighted example sum = 944021\n",
      "weighted label sum = 595033\n",
      "average loss = 0.222781 h\n",
      "best constant = 0.630318\n",
      "best constant's loss = 0.233017\n",
      "total feature number = 4623618\n"
     ]
    }
   ],
   "source": [
    "!vw ex2.train.vw -f ex2.model --passes 30 -c -k"
   ]
  },
  {
   "cell_type": "code",
   "execution_count": 18,
   "metadata": {
    "collapsed": false
   },
   "outputs": [
    {
     "name": "stdout",
     "output_type": "stream",
     "text": [
      "Good Avengers_Age_of_Ultron\n",
      "Bad  Barb_Wire\n",
      "Bad  Dude,_Where's_My_Car?\n",
      "Good Pulp_Fiction\n",
      "Good Schindler's_List\n",
      "Bad  Taken_3\n",
      "Good Terminator_2_Judgment_Day\n",
      "Bad  The_Human_Centipede_(First_Sequence)\n",
      "Good The_Lord_of_the_Rings_The_Fellowship_of_the_Ring\n",
      "Good The_Matrix_Reloaded\n",
      "Good Transformers_Age_of_Extinction\n"
     ]
    }
   ],
   "source": [
    "!vw -i ex2.model -t ex2.test.vw -p ex2.predictions --quiet\n",
    "convert_to_labels('ex2.predictions')"
   ]
  },
  {
   "cell_type": "code",
   "execution_count": 19,
   "metadata": {
    "collapsed": false
   },
   "outputs": [
    {
     "name": "stdout",
     "output_type": "stream",
     "text": [
      "1 Avengers_Age_of_Ultron| DowneyJr._Robert DowneyJr._Robert Hemsworth_Chris Ruffalo_Mark Ruffalo_Mark director=Whedon_Joss\r\n",
      "0 Barb_Wire| Aboulela_Amir Alexander_Adriana Andriole_David Asher_VanessaLee Balicki_Ron director=Hogan_David\r\n",
      "0 Dude,_Where's_My_Car?| Kutcher_Ashton Scott_SeannWilliam Garner_Jennifer Sokoloff_Marla Swanson_Kristy director=Leiner_Danny\r\n",
      "1 Pulp_Fiction| Roth_Tim Roth_Tim Plummer_Amanda Plummer_Amanda Lovelace_Laura director=Tarantino_Quentin\r\n",
      "1 Schindler's_List| Neeson_Liam Kingsley_Ben Fiennes_Ralph Goodall_Caroline Sagall_Jonathan director=Spielberg_Steven\r\n",
      "1 Taken_3| Neeson_Liam Whitaker_Forest Janssen_Famke Grace_Maggie Scott_Dougray director=Megaton_Olivier\r\n",
      "1 Terminator_2_Judgment_Day| Schwarzenegger_Arnold Hamilton_Linda Furlong_Edward Patrick_Robert Boen_Earl director=Cameron_James\r\n",
      "0 The_Human_Centipede_(First_Sequence)| Laser_Dieter Williams_AshleyC. Yennie_Ashlynn Kitamura_Akihiro Leupold_Andreas director=Six_Tom\r\n",
      "1 The_Lord_of_the_Rings_The_Fellowship_of_the_Ring| Howard_Alan Appleby_Noel Astin_Sean Baker_Sala Bean_Sean director=Jackson_Peter\r\n",
      "1 The_Matrix_Reloaded| Anthony_Ray Anu_Christine Arness_Andy Ashton-Sheibu_Alima Bakaitis_Helmut director=Wachowski_Andy\r\n",
      "0 Transformers_Age_of_Extinction| Wahlberg_Mark Tucci_Stanley Grammer_Kelsey Peltz_Nicola Reynor_Jack director=Bay_Michael\r\n"
     ]
    }
   ],
   "source": [
    "!cat ex2.test.vw"
   ]
  },
  {
   "cell_type": "markdown",
   "metadata": {
    "collapsed": true
   },
   "source": [
    "What about multi-class labels?"
   ]
  },
  {
   "cell_type": "code",
   "execution_count": 7,
   "metadata": {
    "collapsed": false
   },
   "outputs": [
    {
     "name": "stdout",
     "output_type": "stream",
     "text": [
      "Num weight bits = 18\n",
      "learning rate = 0.5\n",
      "initial_t = 0\n",
      "power_t = 0.5\n",
      "decay_learning_rate = 1\n",
      "final_regressor = ex3.model\n",
      "creating cache_file = ex3.train.vw.cache\n",
      "Reading datafile = ex3.train.vw\n",
      "num sources = 1\n",
      "average    since         example     example  current  current  current\n",
      "loss       last          counter      weight    label  predict features\n",
      "1.000000   1.000000          1      1.0          4        1        2\n",
      "1.000000   1.000000          2      2.0          3        4        7\n",
      "0.750000   0.500000          4      4.0          4        4        2\n",
      "0.625000   0.500000          8      8.0          4        4        7\n",
      "0.687500   0.750000         16     16.0          5        3        7\n",
      "0.625000   0.562500         32     32.0          3        4        7\n",
      "0.562500   0.500000         64     64.0          4        4        2\n",
      "0.515625   0.468750        128    128.0          3        4        7\n",
      "0.500000   0.484375        256    256.0          3        4        4\n",
      "0.519531   0.539062        512    512.0          4        4        3\n",
      "0.500000   0.480469       1024   1024.0          3        4        2\n",
      "0.494629   0.489258       2048   2048.0          3        4        7\n",
      "0.482666   0.470703       4096   4096.0          4        4        2\n",
      "0.473999   0.465332       8192   8192.0          3        4        6\n",
      "0.477905   0.481812      16384  16384.0          4        4        5\n",
      "0.472473   0.467041      32768  32768.0          4        4        2\n",
      "0.468887   0.465302      65536  65536.0          4        4        2\n",
      "0.460625   0.452362     131072 131072.0          4        4        7\n",
      "0.449770   0.449770     262144 262144.0          3        4        2 h\n",
      "0.449736   0.449701     524288 524288.0          4        4        7 h\n",
      "0.451277   0.452818    1048576 1048576.0          4        4        7 h\n",
      "\n",
      "finished run\n",
      "number of examples per pass = 236049\n",
      "passes used = 5\n",
      "weighted example sum = 1.18025e+06\n",
      "weighted label sum = 0\n",
      "average loss = 0.44722 h\n",
      "best constant = 0\n",
      "total feature number = 5780612\n"
     ]
    }
   ],
   "source": [
    "!vw ex3.train.vw -f ex3.model --passes 30 --oaa 5 -c -k"
   ]
  },
  {
   "cell_type": "code",
   "execution_count": 8,
   "metadata": {
    "collapsed": false
   },
   "outputs": [
    {
     "name": "stdout",
     "output_type": "stream",
     "text": [
      "4.000000 Avengers_Age_of_Ultron\r\n",
      "3.000000 Barb_Wire\r\n",
      "3.000000 Dude,_Where's_My_Car?\r\n",
      "4.000000 Pulp_Fiction\r\n",
      "4.000000 Schindler's_List\r\n",
      "3.000000 Taken_3\r\n",
      "4.000000 Terminator_2_Judgment_Day\r\n",
      "3.000000 The_Human_Centipede_(First_Sequence)\r\n",
      "3.000000 The_Lord_of_the_Rings_The_Fellowship_of_the_Ring\r\n",
      "4.000000 The_Matrix_Reloaded\r\n",
      "3.000000 Transformers_Age_of_Extinction\r\n"
     ]
    }
   ],
   "source": [
    "!vw -i ex3.model -t ex3.test.vw -p /dev/stdout --quiet"
   ]
  },
  {
   "cell_type": "code",
   "execution_count": 9,
   "metadata": {
    "collapsed": false
   },
   "outputs": [
    {
     "name": "stdout",
     "output_type": "stream",
     "text": [
      "4 Avengers_Age_of_Ultron| DowneyJr._Robert DowneyJr._Robert Hemsworth_Chris Ruffalo_Mark Ruffalo_Mark director=Whedon_Joss\r\n",
      "2 Barb_Wire| Aboulela_Amir Alexander_Adriana Andriole_David Asher_VanessaLee Balicki_Ron director=Hogan_David\r\n",
      "3 Dude,_Where's_My_Car?| Kutcher_Ashton Scott_SeannWilliam Garner_Jennifer Sokoloff_Marla Swanson_Kristy director=Leiner_Danny\r\n",
      "5 Pulp_Fiction| Roth_Tim Roth_Tim Plummer_Amanda Plummer_Amanda Lovelace_Laura director=Tarantino_Quentin\r\n",
      "5 Schindler's_List| Neeson_Liam Kingsley_Ben Fiennes_Ralph Goodall_Caroline Sagall_Jonathan director=Spielberg_Steven\r\n",
      "4 Taken_3| Neeson_Liam Whitaker_Forest Janssen_Famke Grace_Maggie Scott_Dougray director=Megaton_Olivier\r\n",
      "5 Terminator_2_Judgment_Day| Schwarzenegger_Arnold Hamilton_Linda Furlong_Edward Patrick_Robert Boen_Earl director=Cameron_James\r\n",
      "3 The_Human_Centipede_(First_Sequence)| Laser_Dieter Williams_AshleyC. Yennie_Ashlynn Kitamura_Akihiro Leupold_Andreas director=Six_Tom\r\n",
      "5 The_Lord_of_the_Rings_The_Fellowship_of_the_Ring| Howard_Alan Appleby_Noel Astin_Sean Baker_Sala Bean_Sean director=Jackson_Peter\r\n",
      "4 The_Matrix_Reloaded| Anthony_Ray Anu_Christine Arness_Andy Ashton-Sheibu_Alima Bakaitis_Helmut director=Wachowski_Andy\r\n",
      "3 Transformers_Age_of_Extinction| Wahlberg_Mark Tucci_Stanley Grammer_Kelsey Peltz_Nicola Reynor_Jack director=Bay_Michael\r\n"
     ]
    }
   ],
   "source": [
    "!cat ex3.test.vw"
   ]
  },
  {
   "cell_type": "code",
   "execution_count": null,
   "metadata": {
    "collapsed": true
   },
   "outputs": [],
   "source": []
  }
 ],
 "metadata": {
  "kernelspec": {
   "display_name": "Python 2",
   "language": "python",
   "name": "python2"
  },
  "language_info": {
   "codemirror_mode": {
    "name": "ipython",
    "version": 2
   },
   "file_extension": ".py",
   "mimetype": "text/x-python",
   "name": "python",
   "nbconvert_exporter": "python",
   "pygments_lexer": "ipython2",
   "version": "2.7.6"
  }
 },
 "nbformat": 4,
 "nbformat_minor": 0
}
